{
 "cells": [
  {
   "cell_type": "markdown",
   "id": "8f95ee5b-3b77-4128-95ea-a9f28d4dc06c",
   "metadata": {},
   "source": [
    "# STAC Task\n",
    "\n",
    "Create a new task that does something"
   ]
  },
  {
   "cell_type": "code",
   "execution_count": 1,
   "id": "353e4df5-91bb-4633-acdf-365e56937d16",
   "metadata": {},
   "outputs": [],
   "source": [
    "from stactask import Task"
   ]
  },
  {
   "cell_type": "code",
   "execution_count": null,
   "id": "cdafa18b-9af2-4f75-829d-b88cd4f54aa5",
   "metadata": {},
   "outputs": [],
   "source": []
  }
 ],
 "metadata": {
  "kernelspec": {
   "display_name": "Python 3 (ipykernel)",
   "language": "python",
   "name": "python3"
  },
  "language_info": {
   "codemirror_mode": {
    "name": "ipython",
    "version": 3
   },
   "file_extension": ".py",
   "mimetype": "text/x-python",
   "name": "python",
   "nbconvert_exporter": "python",
   "pygments_lexer": "ipython3",
   "version": "3.10.6"
  }
 },
 "nbformat": 4,
 "nbformat_minor": 5
}
